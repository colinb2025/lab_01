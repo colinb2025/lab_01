{
  "cells": [
    {
      "cell_type": "markdown",
      "metadata": {
        "id": "IU2Oe2lgy3XV"
      },
      "source": [
        "# Web Scraping\n",
        "\n",
        "Last time, we looked at REST API's as a source of data. You can get lots of very high quality data this way.\n",
        "\n",
        "Some data is available online, but not through an API. When this is the case, some times you can simply copy and paste the data into a .csv file and go on with your life. But if there are many records to parse and combine into a dataset, that might be impossible. Can we automate the collection of data from online sources?\n",
        "\n",
        "This is called web scraping. Broadly speaking: Web scraping is legal, but what you plan to do with the results of your scraping might not be. In general, most sites do not want you to scrape them at this point, but there is not really a way to stop you if you are sufficiently motivated. Be careful to use server resources respectfully (not too many requests per unit time), think seriously about privacy concerns, and be careful who you share your work with."
      ]
    },
    {
      "cell_type": "markdown",
      "metadata": {
        "id": "ui3HNFVXy3XX"
      },
      "source": [
        "We'll be scraping data about used cars in Charlottesville from Craigslist. This will give us a chance to put those wrangling, EDA, and visualization skills to work.\n",
        "\n",
        "We'll use the `requests` package, as we did with API's, but will be getting the kinds of web pages you see everyday. Again, we'll use a header with a user-agent that masks our true identity so that we're not rejected by the server. This particular url points to the car listings for Craigslist in Charlottesville."
      ]
    },
    {
      "cell_type": "markdown",
      "metadata": {
        "id": "a8yVtKAxy3XY"
      },
      "source": [
        "## 1. Pick something else on Craigslist: Musical instruments, roommates, antiques, etc. Look at the search page and its source code. Record which fields/data you would like to gather, and what kinds of EDA you'd do with it. I look at used cars below."
      ]
    },
    {
      "cell_type": "code",
      "execution_count": 54,
      "metadata": {
        "id": "bT63yifry3XX"
      },
      "outputs": [],
      "source": [
        "import numpy as np\n",
        "import matplotlib.pyplot as plt\n",
        "import pandas as pd\n",
        "import seaborn as sns\n",
        "\n",
        "import requests # Page requests\n",
        "\n",
        "header = {'User-Agent': 'Mozilla/5.0 (Windows NT 10.0; Win64; x64; rv:124.0) Gecko/20100101 Firefox/124.0'}\n",
        "url = 'https://charlottesville.craigslist.org/search/charlottesville-va/apa?lat=38.0345&lon=-78.4865&search_distance=102#search=1~gallery~0~0'\n",
        "raw = requests.get(url,headers=header) # Get page"
      ]
    },
    {
      "cell_type": "markdown",
      "metadata": {
        "id": "GS1XkRlXy3XX"
      },
      "source": [
        "Now that we have that particular page available locally, we want to **parse** it and get results from it. To do that, we can use a package called `beautifulSoup` or `bs4`.\n",
        "\n",
        "What does `beautifulSoup` do for us? Let's go to the web page of interest. You probably see something like this:\n",
        "\n",
        "![Listings](craigslist.png \"Craigslist\")\n",
        "\n",
        "But if you \"view page source\" -- which is CTRL+U -- in Chrome, you see what the computer sees:\n",
        "\n",
        "![Listings](craigslist_source.png \"Craigslist\")\n",
        "\n",
        "Since your web browser needs lots of instructions about how to render the text, pictures, and other content on your web page, there are a lot of clues about where the data live and how to extricate them from a page. These clues are called **tags**. If you wander the source for the search page on cars, you see a particular `class = \"cl-static-search-result\"` term appear attached to each listing:\n",
        "\n",
        "![Listings](listing.png \"Craigslist\")\n",
        "\n",
        "This structure can be exploited to search the page for information. This kind of detective work -- looking at the page source, finding the interesting tages, and then searching the page with `beautifulSoup` -- is the basic job of web scraping."
      ]
    },
    {
      "cell_type": "markdown",
      "metadata": {
        "id": "NiO-E2wuy3XZ"
      },
      "source": [
        "## 2. Get your search results of interest and extract data from them, using code similar to what's below."
      ]
    },
    {
      "cell_type": "markdown",
      "metadata": {
        "id": "fEO2NpZ8y3XY"
      },
      "source": [
        "The following code chunk takes the raw content from `requests` and turns it into a beautifulSoup object, which can search the page and return results for us:"
      ]
    },
    {
      "cell_type": "code",
      "execution_count": 55,
      "metadata": {
        "id": "lllobrYIy3XY"
      },
      "outputs": [],
      "source": [
        "from bs4 import BeautifulSoup as soup # HTML parser\n",
        "bsObj = soup(raw.content,'html.parser') # Parse the html\n",
        "listings = bsObj.find_all(class_=\"cl-static-search-result\") # Find all listings"
      ]
    },
    {
      "cell_type": "markdown",
      "metadata": {
        "id": "ymO8JbMmy3XY"
      },
      "source": [
        "Why is the argument `class_` and not just `class`? The word `class` is a reserved keyword for Python, and cannot be used by anyone else, similar to `True` and `False`. But since we want the `class = \"cl-static-search-result\"` terms, we need to use the `class_` argument to the `.find_all` method.\n",
        "\n",
        "The `.find_all` function dredges the entire page and finds all the instances of `class = \"cl-static-search-result\"`, resulting in a list of entries. We can then parse the entries.\n",
        "\n",
        "For each listing, we'll use the `.find` method to search within the listing record for specific information. To get the information we want, we can then use `.get_text()`.\n",
        "\n",
        "In the code below, two more things happen.\n",
        "\n",
        "First, I would like to get the brand of the car from the post title, if possible. To do this, I split the title into words using `title.split()`, and then I use a list comprehension to look over every word in the title and check whether it appears in the `brands` list.\n",
        "\n",
        "Second, I would like to get the year the car was built, so I can determine the vehicle's age. To do this, I use a thing called **regular expressions** that provides a language for expressing patterns. Do I remember how to do this off the top of my head? No, I read a few pages in a book and looked on StackOverflow for answers. Roughly, in order to express the idea \"any year starting with 20xx,\" you can write `20[0-9][0-9]`, and for \"any year starting with 19xx,\" you can write `19[0-9][0-9]`. The `[0-9]`'s act as wildcards for any digit. This allows me to use the `re` package to find any instances of year-like numbers in the title text, using `re.search(r'20[0-9][0-9]|19[0-9][0-9]', title )`.\n",
        "\n",
        "This is all nested in a for-loop over the listings, and the data is appended to a list."
      ]
    },
    {
      "cell_type": "code",
      "execution_count": 58,
      "metadata": {
        "id": "jw-U4BA-y3XY"
      },
      "outputs": [
        {
          "name": "stdout",
          "output_type": "stream",
          "text": [
            "[{'title': '1 bedroom, efficient appliances, ceiling fan', 'price': 1355, 'link': 'https://washingtondc.craigslist.org/mld/apa/d/temple-hills-bedroom-efficient/7787408486.html', 'living type': '1 bedroom'}, {'title': 'cable ready, fitness center, studio 1/ba', 'price': 1850, 'link': 'https://washingtondc.craigslist.org/doc/apa/d/washington-cable-ready-fitness-center/7781372107.html', 'living type': 'studio'}, {'title': 'fabulous studio  376 sq feet in a prime location!', 'price': 1880, 'link': 'https://washingtondc.craigslist.org/doc/apa/d/washington-fabulous-studio-376-sq-feet/7787558960.html', 'living type': 'studio'}, {'title': 'perfect studio just for you! rent today at 1500 arlington', 'price': 1960, 'link': 'https://washingtondc.craigslist.org/doc/apa/d/arlington-perfect-studio-just-for-you/7781715487.html', 'living type': 'studio'}, {'title': 'available end of november, furnished, independent 1 bedroom unit in si', 'price': 1700, 'link': 'https://washingtondc.craigslist.org/mld/apa/d/bethesda-available-end-of-november/7790015572.html', 'living type': '1 bedroom'}, {'title': 'fully furnished studio in foxhall village/georgetown', 'price': 1400, 'link': 'https://washingtondc.craigslist.org/doc/apa/d/washington-fully-furnished-studio-in/7790024289.html', 'living type': 'studio'}, {'title': 'studio 1ba, hardwood flooring, in-unit laundry', 'price': 1950, 'link': 'https://washingtondc.craigslist.org/mld/apa/d/herndon-studio-1ba-hardwood-flooring-in/7787704147.html', 'living type': 'studio'}, {'title': '$1,899 / 1br - 500ft2 - jr 1 bdrm apt  (washington dc', 'price': 1899, 'link': 'https://washingtondc.craigslist.org/doc/apa/d/washington-br-500ft2-jr-bdrm-apt/7790015152.html', 'living type': '1 bdr'}, {'title': 'bright, beautiful 413 sq ft studio in alexandria now showing!', 'price': 1610, 'link': 'https://washingtondc.craigslist.org/nva/apa/d/alexandria-bright-beautiful-413-sq-ft/7782146233.html', 'living type': 'studio'}, {'title': 'rent an amazing 400 sq foot studio  near transit!', 'price': 1637, 'link': 'https://washingtondc.craigslist.org/doc/apa/d/washington-rent-an-amazing-400-sq-foot/7786440711.html', 'living type': 'studio'}, {'title': 'perfect studio just for you! rent today at valo', 'price': 1920, 'link': 'https://washingtondc.craigslist.org/doc/apa/d/washington-perfect-studio-just-for-you/7787540266.html', 'living type': 'studio'}, {'title': \"the home you've always wanted: spacious studio awaits.\", 'price': 2011, 'link': 'https://washingtondc.craigslist.org/mld/apa/d/washington-the-home-youve-always-wanted/7783619843.html', 'living type': 'studio'}, {'title': 'gorgeous 349 sq ft, studio with a spectacular view!', 'price': 1844, 'link': 'https://washingtondc.craigslist.org/doc/apa/d/washington-gorgeous-349-sq-ft-studio/7788172517.html', 'living type': 'studio'}, {'title': 'fabulous studio  349 sq feet in a prime location!', 'price': 1844, 'link': 'https://washingtondc.craigslist.org/doc/apa/d/washington-fabulous-studio-349-sq-feet/7788171262.html', 'living type': 'studio'}, {'title': 'wonderful studio 508 sq ft. plenty of space, great community!', 'price': 1895, 'link': 'https://washingtondc.craigslist.org/doc/apa/d/arlington-wonderful-studio-508-sq-ft/7789407416.html', 'living type': 'studio'}, {'title': 'studio, ceiling fans, in-home washer + dryer units', 'price': 1525, 'link': 'https://washingtondc.craigslist.org/nva/apa/d/alexandria-studio-ceiling-fans-in-home/7789397174.html', 'living type': 'studio'}, {'title': 'spacious 1 bedroom floorplans! come see our great community!', 'price': 1562, 'link': 'https://washingtondc.craigslist.org/doc/apa/d/washington-spacious-bedroom-floorplans/7786435027.html', 'living type': '1 bedroom'}, {'title': 'apply now! 1 bedroom w/upgraded kitchen & bathroom + walk-in closet!', 'price': 1509, 'link': 'https://washingtondc.craigslist.org/mld/apa/d/oxon-hill-apply-now-bedroom-upgraded/7789997388.html', 'living type': '1 bedroom'}, {'title': 'pet friendly community in washington. studio. call for tour!', 'price': 1844, 'link': 'https://washingtondc.craigslist.org/doc/apa/d/washington-pet-friendly-community-in/7787559893.html', 'living type': 'studio'}, {'title': \"all you've been looking for! stylish upgraded 349 sqft studio!\", 'price': 1844, 'link': 'https://washingtondc.craigslist.org/doc/apa/d/washington-all-youve-been-looking-for/7788172577.html', 'living type': 'studio'}, {'title': 'location: 1771 t street, nw, # 1 front, basement entrance! studio', 'price': 1300, 'link': 'https://washingtondc.craigslist.org/doc/apa/d/washington-location-1771-street-nw/7789981314.html', 'living type': 'studio'}, {'title': '1 bedroom 1 bath apartment in the heart of dupont circle', 'price': 1500, 'link': 'https://washingtondc.craigslist.org/doc/apa/d/washington-bedroom-bath-apartment-in/7789983548.html', 'living type': '1 bedroom'}, {'title': 'this perfect studio in arlington will go fast! stop by today!', 'price': 1910, 'link': 'https://washingtondc.craigslist.org/doc/apa/d/arlington-this-perfect-studio-in/7787669670.html', 'living type': 'studio'}, {'title': '$1,499 / 1br - 1000ft2 - 1 br.,den-1000sq.ft. very nice 1 br', 'price': 1499, 'link': 'https://washingtondc.craigslist.org/nva/apa/d/fairfax-br-ft2-brden-1000sqft-very-nice/7783555484.html', 'living type': '1br'}, {'title': '1 bedroom, generously sized floor plans, on-site parking', 'price': 1771, 'link': 'https://washingtondc.craigslist.org/doc/apa/d/washington-bedroom-generously-sized/7789993126.html', 'living type': '1 bedroom'}, {'title': 'love your new apartment home! beautiful studio floorplans.', 'price': 1179, 'link': 'https://washingtondc.craigslist.org/doc/apa/d/washington-love-your-new-apartment-home/7789989783.html', 'living type': 'studio'}, {'title': 'condo 1 bedroom under 1585$ landmark, old town alexandria', 'price': 1585, 'link': 'https://washingtondc.craigslist.org/nva/apa/d/alexandria-condo-bedroom-under-1585/7789987402.html', 'living type': '1 bedroom'}, {'title': 'lovely studio*free utilities*pet-friendly*no security deposit', 'price': 1829, 'link': 'https://washingtondc.craigslist.org/doc/apa/d/washington-lovely-studiofree/7789987076.html', 'living type': 'studio'}, {'title': 'condo 1 bedroom  landmark, old town alexandria', 'price': 1675, 'link': 'https://washingtondc.craigslist.org/nva/apa/d/alexandria-condo-bedroom-landmark-old/7789986253.html', 'living type': '1 bedroom'}, {'title': 'condo 1 bedroom under 1700 $  landmark, old town alexandria', 'price': 1675, 'link': 'https://washingtondc.craigslist.org/nva/apa/d/alexandria-condo-bedroom-under-landmark/7787140558.html', 'living type': '1 bedroom'}, {'title': 'great studio 396 sq ft. come tour our beautiful community!', 'price': 1810, 'link': 'https://washingtondc.craigslist.org/doc/apa/d/washington-great-studio-396-sq-ft-come/7789985361.html', 'living type': 'studio'}, {'title': 'comfortable studio for an amazing price! stop by today!', 'price': 1179, 'link': 'https://washingtondc.craigslist.org/doc/apa/d/washington-comfortable-studio-for-an/7789985099.html', 'living type': 'studio'}, {'title': '1 bedroom, washer and dryer in home, luxerone package lockers', 'price': 1878, 'link': 'https://washingtondc.craigslist.org/nva/apa/d/alexandria-bedroom-washer-and-dryer-in/7789982466.html', 'living type': '1 bedroom'}, {'title': 'the madison: 1 bedroom and 1 bath!!', 'price': 1660, 'link': 'https://richmond.craigslist.org/apa/d/henrico-the-madison-bedroom-and-bath/7789981439.html', 'living type': '1 bedroom'}, {'title': 'renovated 1bedroom apartment home, $1000 off second month', 'price': 2149, 'link': 'https://washingtondc.craigslist.org/doc/apa/d/washington-renovated-1bedroom-apartment/7789973046.html', 'living type': '1 bedroom'}, {'title': 'free rent !! newly renovated!-1 bedroom partially rennovated!', 'price': 1419, 'link': 'https://washingtondc.craigslist.org/mld/apa/d/suitland-free-rent-newly-renovated/7789976908.html', 'living type': '1 bedroom'}, {'title': \"1 bedroom / 1 bathroom for rent! you won't be disappointed!\", 'price': 1635, 'link': 'https://washingtondc.craigslist.org/doc/apa/d/alexandria-bedroom-bathroom-for-rent/7785954173.html', 'living type': '1 bedroom'}, {'title': 'fantastic studio! wonderful community at palisades', 'price': 1844, 'link': 'https://washingtondc.craigslist.org/doc/apa/d/washington-fantastic-studio-wonderful/7787248368.html', 'living type': 'studio'}, {'title': 'lots of room to call your own! spacious studio bed! beautiful neighborhood!', 'price': 1844, 'link': 'https://washingtondc.craigslist.org/doc/apa/d/washington-lots-of-room-to-call-your/7787556693.html', 'living type': 'studio'}, {'title': 'now showing! gorgeous 439 sq ft studio! wonderful deal!', 'price': 1920, 'link': 'https://washingtondc.craigslist.org/doc/apa/d/washington-now-showing-gorgeous-439-sq/7786743959.html', 'living type': 'studio'}]\n"
          ]
        }
      ],
      "source": [
        "import re\n",
        "import numpy as np\n",
        "\n",
        "criteria = ['1-br', '1 bedroom', '1 bdr', '1br', 'studio']\n",
        "\n",
        "data = []\n",
        "for k in range(len(listings)):\n",
        "    title = listings[k].find('div', class_='title').get_text().lower()\n",
        "    price_text = listings[k].find('div', class_='price').get_text()\n",
        "\n",
        "    price = re.sub(r'[^\\d]', '', price_text) \n",
        "    if price.isdigit():\n",
        "        price = int(price)\n",
        "    else:\n",
        "        price = np.nan  \n",
        "\n",
        "    link = listings[k].find(href=True)['href']\n",
        "\n",
        "    living_type = 'missing'\n",
        "    if not re.search(r'2br|2 bedroom|2 bdr|3br|3 bedroom|3 bdr', title):\n",
        "        for criterion in criteria:\n",
        "            if re.search(criterion.replace(' ', r'[- ]*'), title):\n",
        "                living_type = criterion\n",
        "                break\n",
        "\n",
        "    if 1000 <= price <= 2200 and living_type != 'missing':\n",
        "        data.append({'title': title, 'price': price, 'link': link, 'living type': living_type})\n",
        "\n",
        "print(data)\n"
      ]
    },
    {
      "cell_type": "markdown",
      "metadata": {
        "id": "v8TjNu6uy3Xa"
      },
      "source": [
        "## 3. Wrangle your data, do some EDA, and make some plots. Try to find some interesting relationships or stories to tell about your data."
      ]
    },
    {
      "cell_type": "markdown",
      "metadata": {
        "id": "Mz4zVi80y3XZ"
      },
      "source": [
        "\n",
        "With the data scraped from Craigslist, we can put it in a dataframe and wrangle it. Of course, price and year come in as text, not numbers, and need to be typecast/coerced:"
      ]
    },
    {
      "cell_type": "code",
      "execution_count": 59,
      "metadata": {
        "id": "KY1njgHcy3XZ",
        "outputId": "985126b7-e5e5-40c3-ba09-ed0b56625f69"
      },
      "outputs": [
        {
          "name": "stdout",
          "output_type": "stream",
          "text": [
            "(40, 4)\n"
          ]
        },
        {
          "data": {
            "text/html": [
              "<div>\n",
              "<style scoped>\n",
              "    .dataframe tbody tr th:only-of-type {\n",
              "        vertical-align: middle;\n",
              "    }\n",
              "\n",
              "    .dataframe tbody tr th {\n",
              "        vertical-align: top;\n",
              "    }\n",
              "\n",
              "    .dataframe thead th {\n",
              "        text-align: right;\n",
              "    }\n",
              "</style>\n",
              "<table border=\"1\" class=\"dataframe\">\n",
              "  <thead>\n",
              "    <tr style=\"text-align: right;\">\n",
              "      <th></th>\n",
              "      <th>title</th>\n",
              "      <th>price</th>\n",
              "      <th>link</th>\n",
              "      <th>living type</th>\n",
              "    </tr>\n",
              "  </thead>\n",
              "  <tbody>\n",
              "    <tr>\n",
              "      <th>0</th>\n",
              "      <td>1 bedroom, efficient appliances, ceiling fan</td>\n",
              "      <td>1355</td>\n",
              "      <td>https://washingtondc.craigslist.org/mld/apa/d/...</td>\n",
              "      <td>1 bedroom</td>\n",
              "    </tr>\n",
              "    <tr>\n",
              "      <th>1</th>\n",
              "      <td>cable ready, fitness center, studio 1/ba</td>\n",
              "      <td>1850</td>\n",
              "      <td>https://washingtondc.craigslist.org/doc/apa/d/...</td>\n",
              "      <td>studio</td>\n",
              "    </tr>\n",
              "    <tr>\n",
              "      <th>2</th>\n",
              "      <td>fabulous studio  376 sq feet in a prime location!</td>\n",
              "      <td>1880</td>\n",
              "      <td>https://washingtondc.craigslist.org/doc/apa/d/...</td>\n",
              "      <td>studio</td>\n",
              "    </tr>\n",
              "    <tr>\n",
              "      <th>3</th>\n",
              "      <td>perfect studio just for you! rent today at 150...</td>\n",
              "      <td>1960</td>\n",
              "      <td>https://washingtondc.craigslist.org/doc/apa/d/...</td>\n",
              "      <td>studio</td>\n",
              "    </tr>\n",
              "    <tr>\n",
              "      <th>4</th>\n",
              "      <td>available end of november, furnished, independ...</td>\n",
              "      <td>1700</td>\n",
              "      <td>https://washingtondc.craigslist.org/mld/apa/d/...</td>\n",
              "      <td>1 bedroom</td>\n",
              "    </tr>\n",
              "  </tbody>\n",
              "</table>\n",
              "</div>"
            ],
            "text/plain": [
              "                                               title  price  \\\n",
              "0       1 bedroom, efficient appliances, ceiling fan   1355   \n",
              "1           cable ready, fitness center, studio 1/ba   1850   \n",
              "2  fabulous studio  376 sq feet in a prime location!   1880   \n",
              "3  perfect studio just for you! rent today at 150...   1960   \n",
              "4  available end of november, furnished, independ...   1700   \n",
              "\n",
              "                                                link living type  \n",
              "0  https://washingtondc.craigslist.org/mld/apa/d/...   1 bedroom  \n",
              "1  https://washingtondc.craigslist.org/doc/apa/d/...      studio  \n",
              "2  https://washingtondc.craigslist.org/doc/apa/d/...      studio  \n",
              "3  https://washingtondc.craigslist.org/doc/apa/d/...      studio  \n",
              "4  https://washingtondc.craigslist.org/mld/apa/d/...   1 bedroom  "
            ]
          },
          "execution_count": 59,
          "metadata": {},
          "output_type": "execute_result"
        }
      ],
      "source": [
        "## Wrangle the data\n",
        "df = pd.DataFrame.from_dict(data)\n",
        "df['price'] = pd.to_numeric(df['price'],errors='coerce')\n",
        "print(df.shape)\n",
        "df.to_csv('craigslist_cville_cars.csv') # Save data in case of a disaster\n",
        "df.head()"
      ]
    },
    {
      "cell_type": "markdown",
      "metadata": {
        "id": "YBcg4XUoy3XZ"
      },
      "source": [
        "With the data in and wrangled, we can now do EDA:"
      ]
    },
    {
      "cell_type": "code",
      "execution_count": 60,
      "metadata": {
        "id": "qBMwX_rFy3XZ",
        "outputId": "9abfa7a7-f4fb-4563-c0f6-531f74310c3e"
      },
      "outputs": [
        {
          "name": "stdout",
          "output_type": "stream",
          "text": [
            "count      40.000000\n",
            "mean     1707.500000\n",
            "std       230.899468\n",
            "min      1179.000000\n",
            "25%      1552.750000\n",
            "50%      1790.500000\n",
            "75%      1878.500000\n",
            "max      2149.000000\n",
            "Name: price, dtype: float64\n"
          ]
        },
        {
          "data": {
            "image/png": "[encoded data removed]",
            "text/plain": [
              "<Figure size 640x480 with 1 Axes>"
            ]
          },
          "metadata": {},
          "output_type": "display_data"
        },
        {
          "name": "stdout",
          "output_type": "stream",
          "text": [
            "count         40\n",
            "unique         4\n",
            "top       studio\n",
            "freq          24\n",
            "Name: living type, dtype: object\n"
          ]
        },
        {
          "data": {
            "image/png": "[encoded data removed]",
            "text/plain": [
              "<Figure size 640x480 with 1 Axes>"
            ]
          },
          "metadata": {},
          "output_type": "display_data"
        }
      ],
      "source": [
        "# EDA for price and living type:\n",
        "print(df['price'].describe())\n",
        "df['price'].hist(grid=False)\n",
        "plt.show()\n",
        "print(df['living type'].describe())\n",
        "df['living type'].hist(grid=False)\n",
        "plt.show()"
      ]
    },
    {
      "cell_type": "code",
      "execution_count": 61,
      "metadata": {
        "id": "xsJPUF2wy3XZ",
        "outputId": "9a613e49-3b2b-4214-9ae3-9a5f0986ff6e"
      },
      "outputs": [
        {
          "data": {
            "text/html": [
              "<div>\n",
              "<style scoped>\n",
              "    .dataframe tbody tr th:only-of-type {\n",
              "        vertical-align: middle;\n",
              "    }\n",
              "\n",
              "    .dataframe tbody tr th {\n",
              "        vertical-align: top;\n",
              "    }\n",
              "\n",
              "    .dataframe thead tr th {\n",
              "        text-align: left;\n",
              "    }\n",
              "\n",
              "    .dataframe thead tr:last-of-type th {\n",
              "        text-align: right;\n",
              "    }\n",
              "</style>\n",
              "<table border=\"1\" class=\"dataframe\">\n",
              "  <thead>\n",
              "    <tr>\n",
              "      <th></th>\n",
              "      <th colspan=\"4\" halign=\"left\">living type</th>\n",
              "    </tr>\n",
              "    <tr>\n",
              "      <th></th>\n",
              "      <th>count</th>\n",
              "      <th>unique</th>\n",
              "      <th>top</th>\n",
              "      <th>freq</th>\n",
              "    </tr>\n",
              "    <tr>\n",
              "      <th>price</th>\n",
              "      <th></th>\n",
              "      <th></th>\n",
              "      <th></th>\n",
              "      <th></th>\n",
              "    </tr>\n",
              "  </thead>\n",
              "  <tbody>\n",
              "    <tr>\n",
              "      <th>1179</th>\n",
              "      <td>2</td>\n",
              "      <td>1</td>\n",
              "      <td>studio</td>\n",
              "      <td>2</td>\n",
              "    </tr>\n",
              "    <tr>\n",
              "      <th>1300</th>\n",
              "      <td>1</td>\n",
              "      <td>1</td>\n",
              "      <td>studio</td>\n",
              "      <td>1</td>\n",
              "    </tr>\n",
              "    <tr>\n",
              "      <th>1355</th>\n",
              "      <td>1</td>\n",
              "      <td>1</td>\n",
              "      <td>1 bedroom</td>\n",
              "      <td>1</td>\n",
              "    </tr>\n",
              "    <tr>\n",
              "      <th>1400</th>\n",
              "      <td>1</td>\n",
              "      <td>1</td>\n",
              "      <td>studio</td>\n",
              "      <td>1</td>\n",
              "    </tr>\n",
              "    <tr>\n",
              "      <th>1419</th>\n",
              "      <td>1</td>\n",
              "      <td>1</td>\n",
              "      <td>1 bedroom</td>\n",
              "      <td>1</td>\n",
              "    </tr>\n",
              "    <tr>\n",
              "      <th>1499</th>\n",
              "      <td>1</td>\n",
              "      <td>1</td>\n",
              "      <td>1br</td>\n",
              "      <td>1</td>\n",
              "    </tr>\n",
              "    <tr>\n",
              "      <th>1500</th>\n",
              "      <td>1</td>\n",
              "      <td>1</td>\n",
              "      <td>1 bedroom</td>\n",
              "      <td>1</td>\n",
              "    </tr>\n",
              "    <tr>\n",
              "      <th>1509</th>\n",
              "      <td>1</td>\n",
              "      <td>1</td>\n",
              "      <td>1 bedroom</td>\n",
              "      <td>1</td>\n",
              "    </tr>\n",
              "    <tr>\n",
              "      <th>1525</th>\n",
              "      <td>1</td>\n",
              "      <td>1</td>\n",
              "      <td>studio</td>\n",
              "      <td>1</td>\n",
              "    </tr>\n",
              "    <tr>\n",
              "      <th>1562</th>\n",
              "      <td>1</td>\n",
              "      <td>1</td>\n",
              "      <td>1 bedroom</td>\n",
              "      <td>1</td>\n",
              "    </tr>\n",
              "    <tr>\n",
              "      <th>1585</th>\n",
              "      <td>1</td>\n",
              "      <td>1</td>\n",
              "      <td>1 bedroom</td>\n",
              "      <td>1</td>\n",
              "    </tr>\n",
              "    <tr>\n",
              "      <th>1610</th>\n",
              "      <td>1</td>\n",
              "      <td>1</td>\n",
              "      <td>studio</td>\n",
              "      <td>1</td>\n",
              "    </tr>\n",
              "    <tr>\n",
              "      <th>1635</th>\n",
              "      <td>1</td>\n",
              "      <td>1</td>\n",
              "      <td>1 bedroom</td>\n",
              "      <td>1</td>\n",
              "    </tr>\n",
              "    <tr>\n",
              "      <th>1637</th>\n",
              "      <td>1</td>\n",
              "      <td>1</td>\n",
              "      <td>studio</td>\n",
              "      <td>1</td>\n",
              "    </tr>\n",
              "    <tr>\n",
              "      <th>1660</th>\n",
              "      <td>1</td>\n",
              "      <td>1</td>\n",
              "      <td>1 bedroom</td>\n",
              "      <td>1</td>\n",
              "    </tr>\n",
              "    <tr>\n",
              "      <th>1675</th>\n",
              "      <td>2</td>\n",
              "      <td>1</td>\n",
              "      <td>1 bedroom</td>\n",
              "      <td>2</td>\n",
              "    </tr>\n",
              "    <tr>\n",
              "      <th>1700</th>\n",
              "      <td>1</td>\n",
              "      <td>1</td>\n",
              "      <td>1 bedroom</td>\n",
              "      <td>1</td>\n",
              "    </tr>\n",
              "    <tr>\n",
              "      <th>1771</th>\n",
              "      <td>1</td>\n",
              "      <td>1</td>\n",
              "      <td>1 bedroom</td>\n",
              "      <td>1</td>\n",
              "    </tr>\n",
              "    <tr>\n",
              "      <th>1810</th>\n",
              "      <td>1</td>\n",
              "      <td>1</td>\n",
              "      <td>studio</td>\n",
              "      <td>1</td>\n",
              "    </tr>\n",
              "    <tr>\n",
              "      <th>1829</th>\n",
              "      <td>1</td>\n",
              "      <td>1</td>\n",
              "      <td>studio</td>\n",
              "      <td>1</td>\n",
              "    </tr>\n",
              "    <tr>\n",
              "      <th>1844</th>\n",
              "      <td>6</td>\n",
              "      <td>1</td>\n",
              "      <td>studio</td>\n",
              "      <td>6</td>\n",
              "    </tr>\n",
              "    <tr>\n",
              "      <th>1850</th>\n",
              "      <td>1</td>\n",
              "      <td>1</td>\n",
              "      <td>studio</td>\n",
              "      <td>1</td>\n",
              "    </tr>\n",
              "    <tr>\n",
              "      <th>1878</th>\n",
              "      <td>1</td>\n",
              "      <td>1</td>\n",
              "      <td>1 bedroom</td>\n",
              "      <td>1</td>\n",
              "    </tr>\n",
              "    <tr>\n",
              "      <th>1880</th>\n",
              "      <td>1</td>\n",
              "      <td>1</td>\n",
              "      <td>studio</td>\n",
              "      <td>1</td>\n",
              "    </tr>\n",
              "    <tr>\n",
              "      <th>1895</th>\n",
              "      <td>1</td>\n",
              "      <td>1</td>\n",
              "      <td>studio</td>\n",
              "      <td>1</td>\n",
              "    </tr>\n",
              "    <tr>\n",
              "      <th>1899</th>\n",
              "      <td>1</td>\n",
              "      <td>1</td>\n",
              "      <td>1 bdr</td>\n",
              "      <td>1</td>\n",
              "    </tr>\n",
              "    <tr>\n",
              "      <th>1910</th>\n",
              "      <td>1</td>\n",
              "      <td>1</td>\n",
              "      <td>studio</td>\n",
              "      <td>1</td>\n",
              "    </tr>\n",
              "    <tr>\n",
              "      <th>1920</th>\n",
              "      <td>2</td>\n",
              "      <td>1</td>\n",
              "      <td>studio</td>\n",
              "      <td>2</td>\n",
              "    </tr>\n",
              "    <tr>\n",
              "      <th>1950</th>\n",
              "      <td>1</td>\n",
              "      <td>1</td>\n",
              "      <td>studio</td>\n",
              "      <td>1</td>\n",
              "    </tr>\n",
              "    <tr>\n",
              "      <th>1960</th>\n",
              "      <td>1</td>\n",
              "      <td>1</td>\n",
              "      <td>studio</td>\n",
              "      <td>1</td>\n",
              "    </tr>\n",
              "    <tr>\n",
              "      <th>2011</th>\n",
              "      <td>1</td>\n",
              "      <td>1</td>\n",
              "      <td>studio</td>\n",
              "      <td>1</td>\n",
              "    </tr>\n",
              "    <tr>\n",
              "      <th>2149</th>\n",
              "      <td>1</td>\n",
              "      <td>1</td>\n",
              "      <td>1 bedroom</td>\n",
              "      <td>1</td>\n",
              "    </tr>\n",
              "  </tbody>\n",
              "</table>\n",
              "</div>"
            ],
            "text/plain": [
              "      living type                       \n",
              "            count unique        top freq\n",
              "price                                   \n",
              "1179            2      1     studio    2\n",
              "1300            1      1     studio    1\n",
              "1355            1      1  1 bedroom    1\n",
              "1400            1      1     studio    1\n",
              "1419            1      1  1 bedroom    1\n",
              "1499            1      1        1br    1\n",
              "1500            1      1  1 bedroom    1\n",
              "1509            1      1  1 bedroom    1\n",
              "1525            1      1     studio    1\n",
              "1562            1      1  1 bedroom    1\n",
              "1585            1      1  1 bedroom    1\n",
              "1610            1      1     studio    1\n",
              "1635            1      1  1 bedroom    1\n",
              "1637            1      1     studio    1\n",
              "1660            1      1  1 bedroom    1\n",
              "1675            2      1  1 bedroom    2\n",
              "1700            1      1  1 bedroom    1\n",
              "1771            1      1  1 bedroom    1\n",
              "1810            1      1     studio    1\n",
              "1829            1      1     studio    1\n",
              "1844            6      1     studio    6\n",
              "1850            1      1     studio    1\n",
              "1878            1      1  1 bedroom    1\n",
              "1880            1      1     studio    1\n",
              "1895            1      1     studio    1\n",
              "1899            1      1      1 bdr    1\n",
              "1910            1      1     studio    1\n",
              "1920            2      1     studio    2\n",
              "1950            1      1     studio    1\n",
              "1960            1      1     studio    1\n",
              "2011            1      1     studio    1\n",
              "2149            1      1  1 bedroom    1"
            ]
          },
          "execution_count": 61,
          "metadata": {},
          "output_type": "execute_result"
        }
      ],
      "source": [
        "# Price by living type:\n",
        "df.loc[:,['price','living type']].groupby('price').describe()"
      ]
    },
    {
      "cell_type": "code",
      "execution_count": 62,
      "metadata": {
        "id": "XP4Q0dIdy3Xa",
        "outputId": "883e5889-5d9f-472b-d686-12a257490c23"
      },
      "outputs": [
        {
          "data": {
            "text/html": [
              "<div>\n",
              "<style scoped>\n",
              "    .dataframe tbody tr th:only-of-type {\n",
              "        vertical-align: middle;\n",
              "    }\n",
              "\n",
              "    .dataframe tbody tr th {\n",
              "        vertical-align: top;\n",
              "    }\n",
              "\n",
              "    .dataframe thead tr th {\n",
              "        text-align: left;\n",
              "    }\n",
              "\n",
              "    .dataframe thead tr:last-of-type th {\n",
              "        text-align: right;\n",
              "    }\n",
              "</style>\n",
              "<table border=\"1\" class=\"dataframe\">\n",
              "  <thead>\n",
              "    <tr>\n",
              "      <th></th>\n",
              "      <th colspan=\"8\" halign=\"left\">price</th>\n",
              "    </tr>\n",
              "    <tr>\n",
              "      <th></th>\n",
              "      <th>count</th>\n",
              "      <th>mean</th>\n",
              "      <th>std</th>\n",
              "      <th>min</th>\n",
              "      <th>25%</th>\n",
              "      <th>50%</th>\n",
              "      <th>75%</th>\n",
              "      <th>max</th>\n",
              "    </tr>\n",
              "    <tr>\n",
              "      <th>living type</th>\n",
              "      <th></th>\n",
              "      <th></th>\n",
              "      <th></th>\n",
              "      <th></th>\n",
              "      <th></th>\n",
              "      <th></th>\n",
              "      <th></th>\n",
              "      <th></th>\n",
              "    </tr>\n",
              "  </thead>\n",
              "  <tbody>\n",
              "    <tr>\n",
              "      <th>1 bdr</th>\n",
              "      <td>1.0</td>\n",
              "      <td>1899.000000</td>\n",
              "      <td>NaN</td>\n",
              "      <td>1899.0</td>\n",
              "      <td>1899.00</td>\n",
              "      <td>1899.0</td>\n",
              "      <td>1899.00</td>\n",
              "      <td>1899.0</td>\n",
              "    </tr>\n",
              "    <tr>\n",
              "      <th>1 bedroom</th>\n",
              "      <td>14.0</td>\n",
              "      <td>1648.071429</td>\n",
              "      <td>198.917248</td>\n",
              "      <td>1355.0</td>\n",
              "      <td>1522.25</td>\n",
              "      <td>1647.5</td>\n",
              "      <td>1693.75</td>\n",
              "      <td>2149.0</td>\n",
              "    </tr>\n",
              "    <tr>\n",
              "      <th>1br</th>\n",
              "      <td>1.0</td>\n",
              "      <td>1499.000000</td>\n",
              "      <td>NaN</td>\n",
              "      <td>1499.0</td>\n",
              "      <td>1499.00</td>\n",
              "      <td>1499.0</td>\n",
              "      <td>1499.00</td>\n",
              "      <td>1499.0</td>\n",
              "    </tr>\n",
              "    <tr>\n",
              "      <th>studio</th>\n",
              "      <td>24.0</td>\n",
              "      <td>1742.875000</td>\n",
              "      <td>247.180679</td>\n",
              "      <td>1179.0</td>\n",
              "      <td>1630.25</td>\n",
              "      <td>1844.0</td>\n",
              "      <td>1898.75</td>\n",
              "      <td>2011.0</td>\n",
              "    </tr>\n",
              "  </tbody>\n",
              "</table>\n",
              "</div>"
            ],
            "text/plain": [
              "            price                                                             \\\n",
              "            count         mean         std     min      25%     50%      75%   \n",
              "living type                                                                    \n",
              "1 bdr         1.0  1899.000000         NaN  1899.0  1899.00  1899.0  1899.00   \n",
              "1 bedroom    14.0  1648.071429  198.917248  1355.0  1522.25  1647.5  1693.75   \n",
              "1br           1.0  1499.000000         NaN  1499.0  1499.00  1499.0  1499.00   \n",
              "studio       24.0  1742.875000  247.180679  1179.0  1630.25  1844.0  1898.75   \n",
              "\n",
              "                     \n",
              "                max  \n",
              "living type          \n",
              "1 bdr        1899.0  \n",
              "1 bedroom    2149.0  \n",
              "1br          1499.0  \n",
              "studio       2011.0  "
            ]
          },
          "execution_count": 62,
          "metadata": {},
          "output_type": "execute_result"
        }
      ],
      "source": [
        "# living type by price:\n",
        "df.loc[:,['living type','price']].groupby('living type').describe()"
      ]
    },
    {
      "cell_type": "code",
      "execution_count": 63,
      "metadata": {
        "id": "lHypfI-py3Xa",
        "outputId": "1f24c08e-e5d6-4f60-a944-e1760c3fd51d"
      },
      "outputs": [
        {
          "data": {
            "image/png": "[encoded data removed]",
            "text/plain": [
              "<Figure size 640x480 with 1 Axes>"
            ]
          },
          "metadata": {},
          "output_type": "display_data"
        }
      ],
      "source": [
        "ax = sns.scatterplot(data=df, x='living type', y='price',hue='living type')\n",
        "sns.move_legend(ax, \"upper left\", bbox_to_anchor=(1, 1))"
      ]
    },
    {
      "cell_type": "markdown",
      "metadata": {},
      "source": [
        "> Using all of this data and all of these visualizations, we can come to the simple conclusion that housing is expensive. On a deeper note, we can see that '1 bedroom' is used much more frequently than other alternatives such as '1 bdr' or '1br' but interesting enough, '1-br' is not used at all. Studios were the most common and had the largest standard deviation, though only 1 bedroom living situations had enough data to calculate a standard deviation. The histogram chart for rent prices has a grouping around the $1800 - $1900 mark which is an unfortunate place to have the skew come to a maximum. There is also a surge in the $1400 - $1500 area which, despite being not as significant as the $1800 - $1900 surge, nice to see at the friendlier price range. "
      ]
    }
  ],
  "metadata": {
    "colab": {
      "provenance": []
    },
    "kernelspec": {
      "display_name": "Python 3",
      "language": "python",
      "name": "python3"
    },
    "language_info": {
      "codemirror_mode": {
        "name": "ipython",
        "version": 3
      },
      "file_extension": ".py",
      "mimetype": "text/x-python",
      "name": "python",
      "nbconvert_exporter": "python",
      "pygments_lexer": "ipython3",
      "version": "3.11.5"
    }
  },
  "nbformat": 4,
  "nbformat_minor": 0
}
